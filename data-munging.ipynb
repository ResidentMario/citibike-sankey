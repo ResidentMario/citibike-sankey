{
 "cells": [
  {
   "cell_type": "markdown",
   "metadata": {},
   "source": [
    "## Dataset Generation"
   ]
  },
  {
   "cell_type": "code",
   "execution_count": 1,
   "metadata": {
    "collapsed": false
   },
   "outputs": [],
   "source": [
    "import sys\n",
    "sys.path.append('../src')\n",
    "import citibike_trips"
   ]
  },
  {
   "cell_type": "code",
   "execution_count": 2,
   "metadata": {
    "collapsed": true
   },
   "outputs": [],
   "source": [
    "ds = citibike_trips.DataStore(\"mongodb://localhost:27017\")"
   ]
  },
  {
   "cell_type": "code",
   "execution_count": 3,
   "metadata": {
    "collapsed": false
   },
   "outputs": [
    {
     "name": "stderr",
     "output_type": "stream",
     "text": [
      "100%|████████████████████████████████████| 56744/56744 [18:30<00:00, 51.09it/s]\n"
     ]
    }
   ],
   "source": [
    "from collections import Counter\n",
    "line_segments_counter = Counter()\n",
    "\n",
    "from tqdm import tqdm\n",
    "\n",
    "for tripid in tqdm(ds.get_all_trip_ids()):\n",
    "    trip = ds.get_trip_by_id(tripid)\n",
    "    geom = trip['geometry']['coordinates']\n",
    "    for prior_i, next_i in zip(range(0, len(geom) - 1), range(1, len(geom))):\n",
    "        line_segment_prior = geom[prior_i]\n",
    "        line_segment_next = geom[next_i]\n",
    "        line_segments_counter[(line_segment_prior[0], line_segment_prior[1], \n",
    "                               line_segment_next[0], line_segment_next[1])] += 1"
   ]
  },
  {
   "cell_type": "code",
   "execution_count": 4,
   "metadata": {
    "collapsed": false,
    "scrolled": true
   },
   "outputs": [],
   "source": [
    "import pandas as pd\n",
    "\n",
    "linesegments = pd.DataFrame\\\n",
    "                    .from_dict(line_segments_counter, orient='index')\\\n",
    "                    .reset_index()\\\n",
    "                    .rename(columns={0: 'Count', 'index': 'Tuple'})\n",
    "linesegments['Start X'] = [tup[0] for tup in linesegments['Tuple']]\n",
    "linesegments['Start Y'] = [tup[1] for tup in linesegments['Tuple']]\n",
    "linesegments['End X'] = [tup[2] for tup in linesegments['Tuple']]\n",
    "linesegments['End Y'] = [tup[3] for tup in linesegments['Tuple']]"
   ]
  },
  {
   "cell_type": "code",
   "execution_count": 9,
   "metadata": {
    "collapsed": false
   },
   "outputs": [
    {
     "data": {
      "text/html": [
       "<div>\n",
       "<table border=\"1\" class=\"dataframe\">\n",
       "  <thead>\n",
       "    <tr style=\"text-align: right;\">\n",
       "      <th></th>\n",
       "      <th>Tuple</th>\n",
       "      <th>Count</th>\n",
       "      <th>Start X</th>\n",
       "      <th>Start Y</th>\n",
       "      <th>End X</th>\n",
       "      <th>End Y</th>\n",
       "    </tr>\n",
       "  </thead>\n",
       "  <tbody>\n",
       "    <tr>\n",
       "      <th>0</th>\n",
       "      <td>(40.70481, -74.01624, 40.70482, -74.01612)</td>\n",
       "      <td>203</td>\n",
       "      <td>40.70481</td>\n",
       "      <td>-74.01624</td>\n",
       "      <td>40.70482</td>\n",
       "      <td>-74.01612</td>\n",
       "    </tr>\n",
       "    <tr>\n",
       "      <th>1</th>\n",
       "      <td>(40.78307, -73.98454, 40.78303, -73.98456)</td>\n",
       "      <td>50</td>\n",
       "      <td>40.78307</td>\n",
       "      <td>-73.98454</td>\n",
       "      <td>40.78303</td>\n",
       "      <td>-73.98456</td>\n",
       "    </tr>\n",
       "    <tr>\n",
       "      <th>2</th>\n",
       "      <td>(40.71646, -73.95042, 40.71602, -73.95106)</td>\n",
       "      <td>2</td>\n",
       "      <td>40.71646</td>\n",
       "      <td>-73.95042</td>\n",
       "      <td>40.71602</td>\n",
       "      <td>-73.95106</td>\n",
       "    </tr>\n",
       "    <tr>\n",
       "      <th>3</th>\n",
       "      <td>(40.73026, -73.99799, 40.7303, -73.99808)</td>\n",
       "      <td>100</td>\n",
       "      <td>40.73026</td>\n",
       "      <td>-73.99799</td>\n",
       "      <td>40.73030</td>\n",
       "      <td>-73.99808</td>\n",
       "    </tr>\n",
       "    <tr>\n",
       "      <th>4</th>\n",
       "      <td>(40.73924, -73.99918, 40.73989, -73.99873)</td>\n",
       "      <td>57</td>\n",
       "      <td>40.73924</td>\n",
       "      <td>-73.99918</td>\n",
       "      <td>40.73989</td>\n",
       "      <td>-73.99873</td>\n",
       "    </tr>\n",
       "  </tbody>\n",
       "</table>\n",
       "</div>"
      ],
      "text/plain": [
       "                                        Tuple  Count   Start X   Start Y  \\\n",
       "0  (40.70481, -74.01624, 40.70482, -74.01612)    203  40.70481 -74.01624   \n",
       "1  (40.78307, -73.98454, 40.78303, -73.98456)     50  40.78307 -73.98454   \n",
       "2  (40.71646, -73.95042, 40.71602, -73.95106)      2  40.71646 -73.95042   \n",
       "3   (40.73026, -73.99799, 40.7303, -73.99808)    100  40.73026 -73.99799   \n",
       "4  (40.73924, -73.99918, 40.73989, -73.99873)     57  40.73924 -73.99918   \n",
       "\n",
       "      End X     End Y  \n",
       "0  40.70482 -74.01612  \n",
       "1  40.78303 -73.98456  \n",
       "2  40.71602 -73.95106  \n",
       "3  40.73030 -73.99808  \n",
       "4  40.73989 -73.99873  "
      ]
     },
     "execution_count": 9,
     "metadata": {},
     "output_type": "execute_result"
    }
   ],
   "source": [
    "linesegments.head()"
   ]
  },
  {
   "cell_type": "code",
   "execution_count": 8,
   "metadata": {
    "collapsed": false,
    "scrolled": true
   },
   "outputs": [
    {
     "data": {
      "text/html": [
       "<div>\n",
       "<table border=\"1\" class=\"dataframe\">\n",
       "  <thead>\n",
       "    <tr style=\"text-align: right;\">\n",
       "      <th></th>\n",
       "      <th>Tuple</th>\n",
       "      <th>Count</th>\n",
       "      <th>Start X</th>\n",
       "      <th>Start Y</th>\n",
       "      <th>End X</th>\n",
       "      <th>End Y</th>\n",
       "    </tr>\n",
       "  </thead>\n",
       "  <tbody>\n",
       "    <tr>\n",
       "      <th>13864</th>\n",
       "      <td>(40.73687, -74.00556, 40.73687, -74.00556)</td>\n",
       "      <td>2177</td>\n",
       "      <td>40.73687</td>\n",
       "      <td>-74.00556</td>\n",
       "      <td>40.73687</td>\n",
       "      <td>-74.00556</td>\n",
       "    </tr>\n",
       "    <tr>\n",
       "      <th>10464</th>\n",
       "      <td>(40.75193, -73.99365, 40.75205, -73.99356)</td>\n",
       "      <td>2113</td>\n",
       "      <td>40.75193</td>\n",
       "      <td>-73.99365</td>\n",
       "      <td>40.75205</td>\n",
       "      <td>-73.99356</td>\n",
       "    </tr>\n",
       "    <tr>\n",
       "      <th>32407</th>\n",
       "      <td>(40.75205, -73.99356, 40.75219, -73.99345)</td>\n",
       "      <td>2113</td>\n",
       "      <td>40.75205</td>\n",
       "      <td>-73.99356</td>\n",
       "      <td>40.75219</td>\n",
       "      <td>-73.99345</td>\n",
       "    </tr>\n",
       "    <tr>\n",
       "      <th>29484</th>\n",
       "      <td>(40.75094, -73.99436, 40.7512, -73.99418)</td>\n",
       "      <td>2033</td>\n",
       "      <td>40.75094</td>\n",
       "      <td>-73.99436</td>\n",
       "      <td>40.75120</td>\n",
       "      <td>-73.99418</td>\n",
       "    </tr>\n",
       "    <tr>\n",
       "      <th>27595</th>\n",
       "      <td>(40.7512, -73.99418, 40.75151, -73.99395)</td>\n",
       "      <td>2033</td>\n",
       "      <td>40.75120</td>\n",
       "      <td>-73.99418</td>\n",
       "      <td>40.75151</td>\n",
       "      <td>-73.99395</td>\n",
       "    </tr>\n",
       "  </tbody>\n",
       "</table>\n",
       "</div>"
      ],
      "text/plain": [
       "                                            Tuple  Count   Start X   Start Y  \\\n",
       "13864  (40.73687, -74.00556, 40.73687, -74.00556)   2177  40.73687 -74.00556   \n",
       "10464  (40.75193, -73.99365, 40.75205, -73.99356)   2113  40.75193 -73.99365   \n",
       "32407  (40.75205, -73.99356, 40.75219, -73.99345)   2113  40.75205 -73.99356   \n",
       "29484   (40.75094, -73.99436, 40.7512, -73.99418)   2033  40.75094 -73.99436   \n",
       "27595   (40.7512, -73.99418, 40.75151, -73.99395)   2033  40.75120 -73.99418   \n",
       "\n",
       "          End X     End Y  \n",
       "13864  40.73687 -74.00556  \n",
       "10464  40.75205 -73.99356  \n",
       "32407  40.75219 -73.99345  \n",
       "29484  40.75120 -73.99418  \n",
       "27595  40.75151 -73.99395  "
      ]
     },
     "execution_count": 8,
     "metadata": {},
     "output_type": "execute_result"
    }
   ],
   "source": [
    "linesegments.sort_values(by='Count', ascending=False).head()"
   ]
  },
  {
   "cell_type": "code",
   "execution_count": 11,
   "metadata": {
    "collapsed": false
   },
   "outputs": [
    {
     "data": {
      "text/plain": [
       "<matplotlib.axes._subplots.AxesSubplot at 0xac15ba8>"
      ]
     },
     "execution_count": 11,
     "metadata": {},
     "output_type": "execute_result"
    },
    {
     "data": {
      "image/png": "[encoded data removed]",
      "text/plain": [
       "<matplotlib.figure.Figure at 0xabb4e10>"
      ]
     },
     "metadata": {},
     "output_type": "display_data"
    }
   ],
   "source": [
    "%matplotlib inline\n",
    "linesegments['Count'].sort_values(ascending=False).reset_index()['Count'].plot()"
   ]
  },
  {
   "cell_type": "code",
   "execution_count": 16,
   "metadata": {
    "collapsed": true
   },
   "outputs": [],
   "source": [
    "linesegments.to_csv(\"../data/linesegments.csv\")"
   ]
  },
  {
   "cell_type": "code",
   "execution_count": 40,
   "metadata": {
    "collapsed": false
   },
   "outputs": [
    {
     "data": {
      "text/plain": [
       "array(['(40.7491, -73.99201, 40.7491, -73.99201)',\n",
       "       '(40.70777, -74.01577, 40.70862, -74.01546)',\n",
       "       '(40.69509, -73.98891, 40.69509, -73.98874)',\n",
       "       '(40.71973, -73.98281, 40.71999, -73.98364)',\n",
       "       '(40.70149, -73.96119, 40.70132, -73.96128)'], dtype=object)"
      ]
     },
     "execution_count": 40,
     "metadata": {},
     "output_type": "execute_result"
    }
   ],
   "source": [
    "linesegments.sample(5)['Tuple'].values"
   ]
  },
  {
   "cell_type": "markdown",
   "metadata": {},
   "source": [
    "Testing to make sure the data is structured correctly."
   ]
  },
  {
   "cell_type": "code",
   "execution_count": 55,
   "metadata": {
    "collapsed": false
   },
   "outputs": [],
   "source": [
    "import mplleaflet\n",
    "import matplotlib.pyplot as plt\n",
    "\n",
    "%matplotlib inline\n",
    "for ar in linesegments.sample(100)['Tuple'].values:\n",
    "    a = eval(ar)  # sorry.\n",
    "    plt.plot([a[1], a[3]], [a[0], a[2]], linewidth=10)\n",
    "\n",
    "mplleaflet.show()"
   ]
  },
  {
   "cell_type": "markdown",
   "metadata": {},
   "source": [
    "## Visualization Prototyping"
   ]
  },
  {
   "cell_type": "code",
   "execution_count": 3,
   "metadata": {
    "collapsed": true
   },
   "outputs": [],
   "source": [
    "%run ../src/py-d3"
   ]
  },
  {
   "cell_type": "code",
   "execution_count": 4,
   "metadata": {
    "collapsed": false
   },
   "outputs": [
    {
     "data": {
      "text/html": [
       "\n",
       "<script src=\"//cdnjs.cloudflare.com/ajax/libs/d3/3.5.17/d3.js\"></script>\n",
       "\n",
       "<script>\n",
       "_select = d3.select;\n",
       "\n",
       "d3.select0 = function(selection) {\n",
       "    return _select(\"#d3-cell-0\").select(selection);\n",
       "}\n",
       "d3.selectAll0 = function(selection) {\n",
       "    return _select(\"#d3-cell-0\").selectAll(selection);\n",
       "}\n",
       "</script>\n",
       "<g id=\"d3-cell-0\">\n",
       "    \n",
       "<g id=\"map_holder\"></g>\n",
       "\n",
       "<script>\n",
       "var width = 960;\n",
       "var height = 450;\n",
       "var line_scale_factor = 2;\n",
       "\n",
       "var svg = d3.select0(\"#map_holder\")\n",
       "        .append(\"svg\")\n",
       "        .attr(\"width\", 1000)\n",
       "        .attr(\"height\", 800);\n",
       "\n",
       "svg.append(\"rect\")\n",
       "    .attr(\"width\", \"100%\")\n",
       "    .attr(\"height\", \"100%\")\n",
       "    .attr(\"fill\", \"lightsteelblue\");        \n",
       "\n",
       "var proj = d3.geo.mercator()\n",
       "        .center([-74.04, 40.825])\n",
       "        .scale(80000)\n",
       "        .translate([(width) / 2, (height)/2]);\n",
       "\n",
       "var path = d3.geo.path()\n",
       "        .projection(proj);\n",
       "        \n",
       "d3.json(\"../data/boroughs.geojson\", function(error, nyc) {\n",
       "    if (error) return console.error(error);\n",
       "\n",
       "    svg.append(\"path\")\n",
       "        .datum(nyc)\n",
       "        .attr(\"d\", path)\n",
       "        .attr({\n",
       "                \"fill\": \"#fefcfa\"\n",
       "            })\n",
       "\n",
       "});\n",
       "\n",
       "d3.csv(\"../data/linesegments.csv\", function(error, linesegments) {\n",
       "    if (error) return console.error(error);\n",
       "    \n",
       "    var links = [];\n",
       "        \n",
       "    for(var i=0, len=linesegments.length-1; i<len; i++) {\n",
       "        links.push({\n",
       "            type: \"LineString\",\n",
       "            coordinates: [\n",
       "                [ linesegments[i]['Start Y'], linesegments[i]['Start X'] ],\n",
       "                [ linesegments[i+1]['End Y'], linesegments[i+1]['End X'] ]\n",
       "            ]\n",
       "        });\n",
       "    }\n",
       "        \n",
       "    console.log(links);\n",
       "        \n",
       "    svg\n",
       "        .selectAll(\"path\")\n",
       "        .data(links)\n",
       "        .enter()\n",
       "        .append(\"path\")\n",
       "        .attr(\"d\", path)\n",
       "        .attr({\n",
       "                \"stroke\": \"orange\",\n",
       "                \"stroke-width\": \"1\"\n",
       "            })\n",
       "\n",
       "});\n",
       "</script>\n",
       "</g>"
      ],
      "text/plain": [
       "<IPython.core.display.HTML object>"
      ]
     },
     "metadata": {},
     "output_type": "display_data"
    }
   ],
   "source": [
    "%%d3\n",
    "\n",
    "<g id=\"map_holder\"></g>\n",
    "\n",
    "<script>\n",
    "var width = 960;\n",
    "var height = 450;\n",
    "var line_scale_factor = 2;\n",
    "\n",
    "var svg = d3.select(\"#map_holder\")\n",
    "        .append(\"svg\")\n",
    "        .attr(\"width\", 1000)\n",
    "        .attr(\"height\", 800);\n",
    "\n",
    "svg.append(\"rect\")\n",
    "    .attr(\"width\", \"100%\")\n",
    "    .attr(\"height\", \"100%\")\n",
    "    .attr(\"fill\", \"lightsteelblue\");        \n",
    "\n",
    "var proj = d3.geo.mercator()\n",
    "        .center([-74.04, 40.825])\n",
    "        .scale(80000)\n",
    "        .translate([(width) / 2, (height)/2]);\n",
    "\n",
    "var path = d3.geo.path()\n",
    "        .projection(proj);\n",
    "        \n",
    "d3.json(\"../data/boroughs.geojson\", function(error, nyc) {\n",
    "    if (error) return console.error(error);\n",
    "\n",
    "    svg.append(\"path\")\n",
    "        .datum(nyc)\n",
    "        .attr(\"d\", path)\n",
    "        .attr({\n",
    "                \"fill\": \"#fefcfa\"\n",
    "            })\n",
    "\n",
    "});\n",
    "\n",
    "d3.csv(\"../data/linesegments.csv\", function(error, linesegments) {\n",
    "    if (error) return console.error(error);\n",
    "    \n",
    "    var links = [];\n",
    "        \n",
    "    for(var i=0, len=linesegments.length-1; i<len; i++) {\n",
    "        links.push({\n",
    "            type: \"LineString\",\n",
    "            coordinates: [\n",
    "                [ linesegments[i]['Start Y'], linesegments[i]['Start X'] ],\n",
    "                [ linesegments[i+1]['End Y'], linesegments[i+1]['End X'] ]\n",
    "            ]\n",
    "        });\n",
    "    }\n",
    "        \n",
    "    console.log(links);\n",
    "        \n",
    "    svg\n",
    "        .selectAll(\"path\")\n",
    "        .data(links)\n",
    "        .enter()\n",
    "        .append(\"path\")\n",
    "        .attr(\"d\", path)\n",
    "        .attr({\n",
    "                \"stroke\": \"orange\",\n",
    "                \"stroke-width\": \"1\"\n",
    "            })\n",
    "\n",
    "});\n",
    "</script>"
   ]
  },
  {
   "cell_type": "code",
   "execution_count": null,
   "metadata": {
    "collapsed": true
   },
   "outputs": [],
   "source": []
  }
 ],
 "metadata": {
  "kernelspec": {
   "display_name": "Python 3",
   "language": "python",
   "name": "python3"
  },
  "language_info": {
   "codemirror_mode": {
    "name": "ipython",
    "version": 3
   },
   "file_extension": ".py",
   "mimetype": "text/x-python",
   "name": "python",
   "nbconvert_exporter": "python",
   "pygments_lexer": "ipython3",
   "version": "3.5.2"
  }
 },
 "nbformat": 4,
 "nbformat_minor": 0
}
